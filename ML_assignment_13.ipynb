{
 "cells": [
  {
   "cell_type": "markdown",
   "id": "111120c6",
   "metadata": {},
   "source": [
    "### **1. Provide an example of the concepts of Prior, Posterior, and Likelihood ?**"
   ]
  },
  {
   "cell_type": "markdown",
   "id": "5b8cf21e",
   "metadata": {},
   "source": [
    "**Ans:**\n",
    "    \n",
    "Bayes theorem states the following:\n",
    "\n",
    "Posterior = Prior * Likelihood\n",
    "\n",
    "This can also be stated as P (A | B) = (P (B | A) * P(A)) / P(B) , where P(A|B) is the probability of A given B, also called posterior.\n",
    "\n",
    "Prior: Probability distribution representing knowledge or uncertainty of a data object prior or before observing it\n",
    "\n",
    "Posterior: Conditional probability distribution representing what parameters are likely after observing the data object\n",
    "\n",
    "Likelihood: The probability of falling under a specific category or class.\n",
    "\n",
    "For example, if you are classifying the buyers of a specific car, you might already know that 60% of purchasers are male and 40% are female. If you know or can estimate these probabilities, a discriminant analysis can use these prior probabilities in calculating the posterior probabilities."
   ]
  },
  {
   "cell_type": "markdown",
   "id": "4ae857d4",
   "metadata": {},
   "source": [
    "### **2. What role does Bayes' theorem play in the concept learning principle ?**"
   ]
  },
  {
   "cell_type": "markdown",
   "id": "ea0231c8",
   "metadata": {},
   "source": [
    "**Ans:**\n",
    "\n",
    "Bayes theorem helps to determine the probability of an event with random knowledge. It is used to calculate the probability of occurring one event while other one already occurred. It is a best method to relate the condition probability and marginal probability."
   ]
  },
  {
   "cell_type": "markdown",
   "id": "c981ac1e",
   "metadata": {},
   "source": [
    "### **3. Offer an example of how the Nave Bayes classifier is used in real life ?**"
   ]
  },
  {
   "cell_type": "markdown",
   "id": "ae03223b",
   "metadata": {},
   "source": [
    "**Ans:**\n",
    "\n",
    "Naive Bayes easily in real life sorts out spam using keywords. For example, in spam, you can see the word 'viagra' much more often than in regular mail. The algorithm must be trained to recognize such probabilities and, then, it can efficiently apply them for spam filtering. Sentiment analysis."
   ]
  },
  {
   "cell_type": "markdown",
   "id": "07ab2a64",
   "metadata": {},
   "source": [
    "### **4. Can the Nave Bayes classifier be used on continuous numeric data? If so, how can you go about doing it ?**"
   ]
  },
  {
   "cell_type": "markdown",
   "id": "d343040c",
   "metadata": {},
   "source": [
    "**Ans:**\n",
    "\n",
    "Yes naive Bayes classification can be used with numeric predictor values. When characteristic values are continuous in nature then an assumption is made that the values linked with each class are dispersed according to Gaussian that is Normal Distribution, hence Gaussian Naïve Bayes is used."
   ]
  },
  {
   "cell_type": "markdown",
   "id": "0be2162e",
   "metadata": {},
   "source": [
    "### **5. What are Bayesian Belief Networks, and how do they work? What are their applications? Are they capable of resolving a wide range of issues ?**"
   ]
  },
  {
   "cell_type": "markdown",
   "id": "a36e1367",
   "metadata": {},
   "source": [
    "**Ans:**\n",
    "\n",
    "Bayesian belief network is a useful way to represent probabilistic models and visualize them.\n",
    "\n",
    "Bayesian Networks can be useful in many streams. Application of Bayesian belief network happens in the stream of an optimized search engine, diagnosis of different diseases, filtering spam emails, gene regulatory networks, and a lot more.\n",
    "\n",
    "The main aim of this network is to understand the concept of causality relations. To begin with, let’s think of this as a diagnosis of a disease. The symptoms are in front of your eyes, and you can determine the condition by seeing the symptoms. The Bayesian Belief network works similarly to detecting disease by examining symptoms. For example, when a new patient comes, you determine possible diseases they might have after checking their symptoms. The network is also providing the probabilities for every single disease.\n",
    "\n",
    "It performs poorly on high dimensional data."
   ]
  },
  {
   "cell_type": "markdown",
   "id": "a96163dd",
   "metadata": {},
   "source": [
    "### **6. Passengers are checked in an airport screening system to see if there is an intruder. Let I be the random variable that indicates whether someone is an intruder I = 1) or not I = 0), and A be the variable that indicates alarm I = 0). If an intruder is detected with probability P(A = 1|I = 1) = 0.98 and a non-intruder is detected with probability P(A = 1|I = 0) = 0.001, an alarm will be triggered, implying the error factor. The likelihood of an intruder in the passenger population is P(I = 1) = 0.00001. What are the chances that an alarm would be triggered when an individual is actually an intruder ?**"
   ]
  },
  {
   "cell_type": "markdown",
   "id": "364d5445",
   "metadata": {},
   "source": [
    "**Ans:**\n",
    "\n",
    "P(A = 1|I = 1)  = P(I = 1|A = 1)P(A = 1)/P(A = 1)\n",
    "\n",
    "                = P(I = 1|A = 1)P(A = 1)/P(A = 1|T = 1)P(T = 1) + P(A = 1|T = 0)P(T = 0)\n",
    "                = (0.98 × 0.00001)/0.98 × 0.00001 + 0.001 × (1 − 0.00001) = 0.0097\n",
    "                = 0.00001/0.001\n",
    "                = 0.01 "
   ]
  },
  {
   "cell_type": "markdown",
   "id": "6b3b649e",
   "metadata": {},
   "source": [
    "### **7. An antibiotic resistance test (random variable T) has 1% false positives (i.e., 1% of those who are not immune to an antibiotic display a positive result in the test) and 5% false negatives (i.e., 1% of those who are not resistant to an antibiotic show a positive result in the test) (i.e. 5 percent of those actually resistant to an antibiotic test negative). Assume that 2% of those who were screened were antibiotic-resistant. Calculate the likelihood that a person who tests positive is actually immune (random variable D) ?**"
   ]
  },
  {
   "cell_type": "markdown",
   "id": "9954ce45",
   "metadata": {},
   "source": [
    "**Ans:**\n",
    "\n",
    "T = p means Test positive,\n",
    "\n",
    "T = n means Test negative,\n",
    "\n",
    "D = p means person takes drug,\n",
    "\n",
    "D = n means person does not take drugs\n",
    "\n",
    "We know:\n",
    "\n",
    "P(T = p|D = n) = 0.01 (false positives) \n",
    "\n",
    "(false negatives) P(T = n|D = p) = 0.05 =⇒ P(T = p|D = p) = 0.95 (true positives) \n",
    "\n",
    "P(D = p) = 0.02 =⇒ P(D = n) = 0.98 \n",
    "\n",
    "We want to know the probability that somebody who tests positive is actually taking drugs:\n",
    "\n",
    "P(D = p|T = p) = P(T = p|D = p)P(D = p)/P(T = p) * (Bayes theorem)\n",
    "\n",
    "We do not know P(T = p):\n",
    "\n",
    "P(T = p) = P(T = p|D = p)P(D = p) + P(T = p|D = n)P(D = n)\n",
    "\n",
    "We get:\n",
    "\n",
    "P(D = p|T = p) = P(T = p|D = p)P(D = p)/P(T = p)\n",
    "\n",
    "                = (P(T = p|D = p)P(D = p))/(P(T = p|D = p)P(D = p) + P(T = p|D = n)P(D = n))\n",
    "\n",
    "                = (0.95 · 0.02)/(0.95 · 0.02 + 0.01 · 0.98)\n",
    "\n",
    "                = 0.019/0.0288 ≈ 0.66"
   ]
  },
  {
   "cell_type": "markdown",
   "id": "54020cf8",
   "metadata": {},
   "source": [
    "### **8. In order to prepare for the test, a student knows that there will be one question in the exam that is either form A, B, or C. The chances of getting an A, B, or C on the exam are 30 percent, 20%, and 50 percent, respectively. During the planning, the student solved 9 of 10 type A problems, 2 of 10 type B problems, and 6 of 10 type C problems.**\n",
    "1. What is the likelihood that the student can solve the exam problem?\n",
    "2. Given the student's solution, what is the likelihood that the problem was of form A?"
   ]
  },
  {
   "cell_type": "markdown",
   "id": "91c40b74",
   "metadata": {},
   "source": [
    "**Ans:**\n",
    "    \n",
    "1. The probability to solve the problem of the exam is the probability of getting a problem of\n",
    "a certain type times the probability of solving such a problem, summed over all types. This is known\n",
    "as the total probability.\n",
    "\n",
    "P(solved) = P(solved|A)P(A) + P(solved|B)P(B) + P(solved|C)P(C)\n",
    "\n",
    "            = 9/10 · 30% + 2/10 · 20% + 6/10 · 50%\n",
    "\n",
    "            = 27/100 + 4/100 + 30/100 = 61/100 = 0.61  \n",
    "            \n",
    "2. : For this to answer we need Bayes theorem.\n",
    "\n",
    "P(A|solved) = P(solved|A)P(A)/P(solved)\n",
    "\n",
    "            = (9/10 · 30%)/(61/100)\n",
    "\n",
    "            = (27/100)/(61/100)\n",
    "            \n",
    "            = 27/61\n",
    "            \n",
    "            = 0.442... ."
   ]
  },
  {
   "cell_type": "markdown",
   "id": "9db681d1",
   "metadata": {},
   "source": [
    "### **9. A bank installs a CCTV system to track and photograph incoming customers. Despite the constant influx of customers, we divide the timeline into 5 minute bins. There may be a customer coming into the bank with a 5% chance in each 5-minute time period, or there may be no customer (again, for simplicity, we assume that either there is 1 customer or none, not the case of multiple customers). If there is a client, the CCTV will detect them with a 99 percent probability. If there is no customer, the camera can take a false photograph with a 10% chance of detecting movement from other objects.**\n",
    "1. How many customers come into the bank on a daily basis (10 hours)?\n",
    "2. On a daily basis, how many fake photographs (photographs taken when there is no customer) and how many missed photographs (photographs taken when there is a customer) are there?\n",
    "3. Explain likelihood that there is a customer if there is a photograph?"
   ]
  },
  {
   "cell_type": "markdown",
   "id": "c02bdf08",
   "metadata": {},
   "source": [
    "**Ans:**\n",
    "##### 1. To determine the number of customers who come into the bank on a daily basis, we'll break down the problem step by step.\n",
    "\n",
    "1. **5-Minute Intervals:**\n",
    "   In a 10-hour day, there are 10 hours * 60 minutes per hour / 5 minutes per bin = 120 bins.\n",
    "\n",
    "2. **Chance of a Customer in Each 5-Minute Interval:**\n",
    "   The probability of a customer coming into the bank in a 5-minute interval is 5%.\n",
    "\n",
    "3. **Probability of No Customer in Each 5-Minute Interval:**\n",
    "   Since there are only two possibilities (customer or no customer), the probability of no customer is 100% - 5% = 95%.\n",
    "\n",
    "4. **Probability of CCTV Detecting a Customer:**\n",
    "   The probability of the CCTV detecting a customer, given that a customer is present, is 99%.\n",
    "\n",
    "5. **Probability of CCTV Taking a False Photograph:**\n",
    "   The probability of the CCTV taking a false photograph when there's no customer is 10%.\n",
    "\n",
    "Now, let's calculate the probabilities for each 5-minute bin and then compute the expected number of customers for the entire 10-hour day.\n",
    "\n",
    "- Probability of detecting a customer in a 5-minute bin: 5% * 99% = 0.05 * 0.99 = 0.0495\n",
    "- Probability of a false photograph (when there's no customer) in a 5-minute bin: 95% * 10% = 0.95 * 0.10 = 0.095\n",
    "\n",
    "To calculate the expected number of customers in each bin:\n",
    "- Expected customers per bin = Probability of detecting a customer in a bin\n",
    "\n",
    "Now, we can calculate the expected number of customers in a day:\n",
    "\n",
    "- Expected customers per day = Expected customers per bin * Number of bins per day\n",
    "\n",
    "Let's proceed with the calculations:\n",
    "\n",
    "1. Expected customers per bin = 0.0495\n",
    "2. Number of bins per day = 120 (as calculated above)\n",
    "\n",
    "Expected customers per day = Expected customers per bin * Number of bins per day\n",
    "\n",
    "Expected customers per day = 0.0495 * 120 = 5.94 (approximately)\n",
    "\n",
    "So, on average, we expect about 5.94 customers to come into the bank on a daily basis over a 10-hour period, assuming the provided probabilities. Since the number of customers must be a whole number, we round this to the nearest whole number, giving us an expected daily customer count of 6.\n",
    "\n",
    "\n",
    "\n",
    "##### 2. To determine the number of fake photographs (photographs taken when there is no customer) and missed photographs (photographs not taken when there is a customer), we can use the probabilities provided in the scenario.\n",
    "\n",
    "1. Probability of a fake photograph in a 5-minute bin when there is no customer: 95% * 10% = 0.95 * 0.10 = 0.095\n",
    "2. Probability of a missed photograph in a 5-minute bin when there is a customer: 5% * (1 - 99%) = 0.05 * 0.01 = 0.0005\n",
    "\n",
    "Now, let's calculate the expected number of fake and missed photographs in a 5-minute bin:\n",
    "\n",
    "- Expected number of fake photographs per bin = Probability of a fake photograph in a bin\n",
    "- Expected number of missed photographs per bin = Probability of a missed photograph in a bin\n",
    "\n",
    "To find the daily totals, we'll multiply these values by the number of bins in a day (which is 120, as calculated previously):\n",
    "\n",
    "- Expected number of fake photographs per day = Expected number of fake photographs per bin * Number of bins per day\n",
    "- Expected number of missed photographs per day = Expected number of missed photographs per bin * Number of bins per day\n",
    "\n",
    "Let's calculate these:\n",
    "\n",
    "1. Expected number of fake photographs per bin = 0.095\n",
    "2. Expected number of missed photographs per bin = 0.0005\n",
    "3. Number of bins per day = 120 (as calculated previously)\n",
    "\n",
    "Now, calculate the daily totals:\n",
    "\n",
    "- Expected number of fake photographs per day = 0.095 * 120 = 11.4 (approximately)\n",
    "- Expected number of missed photographs per day = 0.0005 * 120 = 0.06 (approximately)\n",
    "\n",
    "So, on a daily basis, you can expect approximately 11.4 fake photographs (photographs taken when there is no customer) and approximately 0.06 missed photographs (photographs not taken when there is a customer) based on the provided probabilities and the 10-hour operating period.\n",
    "\n",
    "\n",
    "##### 3. To determine the likelihood that there is a customer given that there is a photograph (the probability of a customer being present given that a photograph was taken), we can use Bayes' theorem. Bayes' theorem relates the conditional and marginal probabilities of random events.\n",
    "\n",
    "Let's define the following:\n",
    "- \\( A \\) represents the event that there is a customer.\n",
    "- \\( B \\) represents the event that a photograph is taken.\n",
    "\n",
    "We want to calculate \\( P(A|B) \\), the probability of a customer being present given that a photograph was taken. According to Bayes' theorem:\n",
    "\n",
    "\\[ P(A|B) = \\frac{P(B|A) \\times P(A)}{P(B)} \\]\n",
    "\n",
    "Where:\n",
    "- \\( P(B|A) \\) is the probability of a photograph being taken given that there is a customer.\n",
    "- \\( P(A) \\) is the probability of a customer being present (which is 5% or 0.05 as given in the scenario).\n",
    "- \\( P(B) \\) is the overall probability of a photograph being taken, considering both the cases where there is a customer (true positive) and where there isn't a customer (false positive).\n",
    "\n",
    "[ P(A|B) approx 0.33011]\n",
    "\n",
    "So, the likelihood that there is a customer given that there is a photograph is approximately ( 0.33011% ) or about ( 33.01% )."
   ]
  },
  {
   "cell_type": "markdown",
   "id": "5b686929",
   "metadata": {},
   "source": [
    "### **10. Create the conditional probability table associated with the node Won Toss in the Bayesian Belief network to represent the conditional independence assumptions of the Nave Bayes classifier for the match winning prediction problem in Section 6.4.4.?**"
   ]
  },
  {
   "cell_type": "markdown",
   "id": "dd129dca",
   "metadata": {},
   "source": [
    "In a Naive Bayes classifier for the match-winning prediction problem, the \"Won Toss\" variable is often considered as one of the features. To create a conditional probability table (CPT) associated with the node \"Won Toss\" in the Bayesian Belief network, we need to define the conditional probabilities of winning the match based on whether the toss was won or lost. We'll assume a binary outcome for simplicity: \"Yes\" if the team wins the match and \"No\" if the team loses the match.\n",
    "\n",
    "Let's denote:\n",
    "- ( W ) as the event of winning the match,\n",
    "- ( T ) as the event of winning the toss.\n",
    "\n",
    "We'll create a CPT with the following conditional probabilities:\n",
    "\n",
    "[ P(W | T) ] - Probability of winning the match given that the toss was won.\n",
    "[ P(W | \\neg T) ] - Probability of winning the match given that the toss was lost.\n",
    "\n",
    "Assuming we have the data to estimate these probabilities, we can represent a simple conditional probability table as follows:\n",
    "\n",
    "| Won Toss (T) | \\( P(W | T) \\) | \\( P(\\neg W | T) \\) |     \n",
    "|--------------|---------------|--------------------|     \n",
    "| Yes          | \\( p_{W|T} \\)  | \\( 1 - p_{W|T} \\)   |     \n",
    "| No           | \\( p_{W|\\neg T} \\) | \\( 1 - p_{W|\\neg T} \\) |    \n",
    "\n",
    "Here, \\( p_{W|T} \\) and \\( p_{W|\\neg T} \\) are the estimated probabilities of winning the match given that the toss was won or lost, respectively.\n",
    "\n",
    "Please note that these probabilities should be calculated based on your specific dataset or domain knowledge. The values in the table should sum to 1 for each row (i.e., for each combination of \"Won Toss\" and \"Match Winning\")."
   ]
  }
 ],
 "metadata": {
  "kernelspec": {
   "display_name": "Python 3 (ipykernel)",
   "language": "python",
   "name": "python3"
  },
  "language_info": {
   "codemirror_mode": {
    "name": "ipython",
    "version": 3
   },
   "file_extension": ".py",
   "mimetype": "text/x-python",
   "name": "python",
   "nbconvert_exporter": "python",
   "pygments_lexer": "ipython3",
   "version": "3.9.12"
  }
 },
 "nbformat": 4,
 "nbformat_minor": 5
}
