{
 "cells": [
  {
   "cell_type": "markdown",
   "id": "323869de",
   "metadata": {},
   "source": [
    "**1. What are the key tasks that machine learning entails? What does data pre-processing imply?**"
   ]
  },
  {
   "cell_type": "markdown",
   "id": "86a43ec9",
   "metadata": {},
   "source": [
    "**Ans:** \n",
    "\n",
    "A machine learning task is the type of prediction or inference being made, based on the problem or question that is being asked, and the available data. For example, the classification task assigns data to categories, and the clustering task groups data according to similarity.\n",
    "\n",
    "Data preprocessing, a component of data preparation, describes any type of processing performed on raw data to prepare it for another data processing procedure. It has traditionally been an important preliminary step for the data mining process."
   ]
  },
  {
   "cell_type": "markdown",
   "id": "7d4d0dbb",
   "metadata": {},
   "source": [
    "**2. Describe quantitative and qualitative data in depth. Make a distinction between the two.**"
   ]
  },
  {
   "cell_type": "markdown",
   "id": "50b5439c",
   "metadata": {},
   "source": [
    "**Ans:** \n",
    "\n",
    "**Quantitative**\n",
    "1. Quantitative data is numbers-based, countable, or measurable. These types of data tells us how many, how much, or how often in calculations. \n",
    "2. The type of data which can be counted and expressed in numbers and values is called quantitative data.\n",
    "3. Quantitative data is conclusive in nature which aims at testing a specific hypothesis and examine the relationships.\n",
    "4. Quantitative data has an objective and focused approach\n",
    "5. When the data type is quantitative we use statistical analysis.\n",
    "6. Data collection is structured in quantitative data.\n",
    "7. Quantitative data ascertains the level of occurrence.\n",
    "\n",
    "Discrete Data Type: – The Numeric Data Which Have Discrete Values Or Whole Numbers. This Type Of Variable Value If Expressed In Decimal Format Will Have No Proper Meaning. Their Values Can Be Counted. E.G.: – No. Of Cars You Have, No. Of Marbles In Containers, Students In A Class, Etc.\n",
    "\n",
    "Continuous Data Type: – The Numerical Measures Which Can Take The Value Within A Certain Range. This Type Of Variable Value If Expressed In Decimal Format Has True Meaning. Their Values Can Not Be Counted But Measured. The Value Can Be Infinite E.G.: Height, Weight, Time, Area, Distance, Measurement Of Rainfall, Etc.\n",
    "\n",
    "**Qualitative**\n",
    "1. Qualitative data is interpretation-based, descriptive, and relating to language.  These types of data can help us to understand why, how, or what happened behind certain behaviors.\n",
    "2. The data type, in which the classification of objects is based on attributes (quality) is called qualitative data.\n",
    "3. The research methodology is exploratory in qualitative data, i.e. to provide insights and understanding.\n",
    "4. The approach to inquiry in the case of qualitative data is subjective and holistic\n",
    "5. When the data type is qualitative the analysis is non-statistical\n",
    "6. In qualitative data, there is an unstructured gathering of data.\n",
    "7. Qualitative data determines the depth of understanding,\n",
    "\n",
    "Structured Data: This Type Of Data Is Either Number Or Words. This Can Take Numerical Values But Mathematical Operations Cannot Be Performed On It. This Type Of Data Is Expressed In Tabular Format. E.G.) Sunny=1, Cloudy=2, Windy=3 Or Binary Form Data Like 0 Or1, Good Or Bad, Etc.\n",
    "\n",
    "Unstructured Data: This Type Of Data Does Not Have The Proper Format And Therefore Known As Unstructured Data.This Comprises Textual Data, Sounds, Images, Videos, Etc."
   ]
  },
  {
   "cell_type": "markdown",
   "id": "97864cdb",
   "metadata": {},
   "source": [
    "**3. Create a basic data collection that includes some sample records. Have at least one attribute from each of the machine learning data types.**"
   ]
  },
  {
   "cell_type": "markdown",
   "id": "460f3fde",
   "metadata": {},
   "source": [
    "**Ans:** \n",
    "\n",
    "The following is a basic data collection that includes some sample records.\n",
    "\n",
    "**Determine What Information You Want to Collect:** The first thing you need to do is choose what details you want to collect. You’ll need to decide what topics the information will cover, who you want to collect it from and how much data you need. Your goals — what you hope to accomplish using your data — will determine your answers to these questions. As an example, you may decide to collect data about which type of articles are most popular on your website among visitors who are between the ages of 18 and 34. You might also choose to gather information about the average age of all of the customers who bought a product from your company within the last month.\n",
    "\n",
    "**Set a Timeframe for Data Collection:** Next, you can start formulating your plan for how you’ll collect your data. In the early stages of your planning process, you should establish a timeframe for your data collection. You may want to gather some types of data continuously. When it comes to transactional data and website visitor data, for example, you may want to set up a method for tracking that data over the long term. If you’re tracking data for a specific campaign, however, you’ll track it over a defined period. In these instances, you’ll have a schedule for when you’ll start and end your data collection.\n",
    "\n",
    "**Determine Your Data Collection Method:** At this step, you will choose the data collection method that will make up the core of your data-gathering strategy. To select the right collection method, you’ll need to consider the type of information you want to collect, the timeframe over which you’ll obtain it and the other aspects you determined.\n",
    "\n",
    "**Collect the Data:** Once you have finalized your plan, you can implement your data collection strategy and start collecting data. You can store and organize your data in your DMP. Be sure to stick to your plan and check on its progress regularly. It may be useful to create a schedule for when you will check in with how your data collection is proceeding, especially if you are collecting data continuously. You may want to make updates to your plan as conditions change and you get new information.\n",
    "\n",
    "**Analyze the Data and Implement Your Findings:** Once you’ve collected all of your data, it’s time to analyze it and organize your findings. The analysis phase is crucial because it turns raw data into valuable insights that you can use to enhance your marketing strategies, products and business decisions. You can use the analytics tools built into our DMP to help with this step. Once you’ve uncovered the patterns and insights in your data, you can implement the findings to improve your business."
   ]
  },
  {
   "cell_type": "markdown",
   "id": "048b9372",
   "metadata": {},
   "source": [
    "**4. What are the various causes of machine learning data issues? What are the ramifications?**"
   ]
  },
  {
   "cell_type": "markdown",
   "id": "571b77bd",
   "metadata": {},
   "source": [
    "**Ans:** \n",
    "\n",
    "The various causes of machine learning data issues are: \n",
    "\n",
    "- Noisy data, incomplete data, inaccurate data, and unclean data lead to less accuracy in classification and low-quality results. Hence, data quality can also be considered as a major common problem while processing machine learning algorithms.\n",
    "\n",
    "Ramifications or major issues in machine learning are:\n",
    "\n",
    "- Five practical issues in machine learning and the business implications Data quality.\n",
    "- Machine learning systems rely on data.\n",
    "- The complexity and quality trade-off.\n",
    "- Sampling bias in data.\n",
    "- Changing expectations and concept drift.\n",
    "- Monitoring and maintenance."
   ]
  },
  {
   "cell_type": "markdown",
   "id": "2f546629",
   "metadata": {},
   "source": [
    "**5. Demonstrate various approaches to categorical data exploration with appropriate examples.**"
   ]
  },
  {
   "cell_type": "markdown",
   "id": "eef88100",
   "metadata": {},
   "source": [
    "**Ans:** \n",
    "\n",
    "Various approaches to categorical data exploration are:\n",
    "\n",
    "**1. Unique value count:** One of the first things which can be useful during data exploration is to see how many unique values\n",
    "are there in categorical columns. \n",
    "\n",
    "**2. Frequency Count:** Frequency count is finding how frequent individual values occur in column. \n",
    "\n",
    "**3. Variance:** Variance gives a good indication how the values are spread. \n",
    "\n",
    "**4. Pareto Analysis:** Pareto analysis is a creative way of focusing on what is important. Pareto 80–20 rule can be effectively used in data exploration. \n",
    "\n",
    "**5. Histogram:** Histogram are one of the data scientists favourite data exploration techniques. It gives information on the range of values in which most of the values fall. It also gives information on whether there is any skew in data. \n",
    "\n",
    "**6. Correlation Heat-map between all numeric columns:** The term correlation refers to a mutual relationship or association between two things. \n",
    "\n",
    "**7. Pearson Correlation and Trend between two numeric columns:** Once you have visualised correlation heat-map , the next step is to see the correlation trend between two specific numeric columns. \n",
    "\n",
    "**8. Outlier overview:** Finding something unusual in data is called Outlier detection (also known as anomaly detection). These outliers represent something unusual, rare , anomaly or something exceptional."
   ]
  },
  {
   "cell_type": "markdown",
   "id": "d4fb1867",
   "metadata": {},
   "source": [
    "**6. How would the learning activity be affected if certain variables have missing values? Having said that, what can be done about it?**"
   ]
  },
  {
   "cell_type": "markdown",
   "id": "90dec378",
   "metadata": {},
   "source": [
    "**Ans:** \n",
    "\n",
    "Even in a Well-Designed & Controlled study, Missing data occurs in almost all research. Missing data can reduce the statistical power of a study and can produce biased estimates, leading to invalid conclusions.\n",
    "\n",
    "- Real-world data collection has its own set of problems, It is often very messy which includes missing data, presence of outliers, unstructured manner, etc.\n",
    "- Before looking for any insights from the data, we have to first perform preprocessing tasks which then only allow us to use that data for further observation and train our machine learning model.\n",
    "- Missing value in a dataset is a very common phenomenon in the reality.\n",
    "- Missing value correction is required to reduce bias and to produce powerful suitable models.\n",
    "- Most of the algorithms can’t handle missing data, thus you need to act in some way to simply not let your code crash. So, let’s begin with the methods to solve the problem.\n",
    "- Methods for dealing with missing values. The popular methods which are used by the machine learning community to handle the missing value for categorical variables in the dataset are as follows: Delete the observations: If there is a large number of observations in the dataset, where all the classes to be predicted are sufficiently represented in the training data, then try deleting the missing value observations, which would not bring significant change in your feed to your model."
   ]
  },
  {
   "cell_type": "markdown",
   "id": "156b649d",
   "metadata": {},
   "source": [
    "The Various Methods for dealing with missing data values are:\n",
    "\n",
    "1. Delete the observations: If there is a large number of observations in the dataset, where all the classes to be predicted are sufficiently represented in the training data, then try deleting the missing value observations, which would not bring significant change in your feed to your model. For Example Implement this method in a given dataset, we can delete the entire row which contains missing values.\n",
    "2. Replace missing values with the most frequent value: You can always impute them based on Mode in the case of categorical variables, just make sure you don’t have highly skewed class distributions.\n",
    "3. Develop a model to predict missing values: One smart way of doing this could be training a classifier over your columns with missing values as a dependent variable against other features of your data set and trying to impute based on the newly trained classifier."
   ]
  },
  {
   "cell_type": "markdown",
   "id": "a9955b23",
   "metadata": {},
   "source": [
    "**7. Describe the various methods for dealing with missing data values in depth.**"
   ]
  },
  {
   "cell_type": "markdown",
   "id": "33090817",
   "metadata": {},
   "source": [
    "**Ans:** \n",
    "\n",
    "The Various Methods for dealing with missing data values are:\n",
    "\n",
    "**1. Delete the observations:** If there is a large number of observations in the dataset, where all the classes to be predicted are sufficiently represented in the training data, then try deleting the missing value observations, which would not bring significant change in your feed to your model. For Example Implement this method in a given dataset, we can delete the entire row which contains missing values.\n",
    "\n",
    "**2. Replace missing values with the most frequent value:** You can always impute them based on Mode in the case of categorical variables, just make sure you don’t have highly skewed class distributions.\n",
    "\n",
    "**3. Develop a model to predict missing values:** One smart way of doing this could be training a classifier over your columns with missing values as a dependent variable against other features of your data set and trying to impute based on the newly trained classifier."
   ]
  },
  {
   "cell_type": "markdown",
   "id": "3ceec5aa",
   "metadata": {},
   "source": [
    "**8. What are the various data pre-processing techniques? Explain dimensionality reduction and function selection in a few words.**"
   ]
  },
  {
   "cell_type": "markdown",
   "id": "773315fc",
   "metadata": {},
   "source": [
    "**Ans:** \n",
    "\n",
    "The Various Data Pre-Processing Techniques are:\n",
    "\n",
    "**Data Cleaning:** The data can have many irrelevant and missing parts. To handle this part, data cleaning is done. It involves handling of missing data, noisy data etc.\n",
    "\n",
    "    - Missing Data: This situation arises when some data is missing in the dataset. It can be handled in various ways. Some of them are:\n",
    "        - Ignore the tuples: This approach is suitable only when the dataset we have is quite large and multiple values are missing within a tuple.\n",
    "        - Fill the Missing values: There are various ways to do this task. You can choose to fill the missing values manually, by attribute mean or the most probable value.\n",
    "    - Noisy Data: Noisy data is a meaningless data that can’t be interpreted by machines.It can be generated due to faulty data collection, data entry errors etc. It can be handled in following ways :\n",
    "        - Binning Method: This method works on sorted data in order to smooth it. The whole data is divided into segments of equal size and then various methods are performed to complete the task. Each segmented is handled separately. One can replace all data in a segment by its mean or boundary values can be used to complete the task.\n",
    "        - Regression: Here data can be made smooth by fitting it to a regression function.The regression used may be simple (having one independent variable) or multiple (having multiple independent variables).\n",
    "        - Clustering: This approach groups the similar data in a cluster. The outliers may be undetected or it will fall outside the clusters.\n",
    "**Data Reduction:** Since data mining is a technique that is used to handle huge amount of data. While working with huge volume of data, analysis became harder in such cases. In order to get rid of this, we uses data reduction technique. It aims to increase the storage efficiency and reduce data storage and analysis costs. The various steps to data reduction are:\n",
    "\n",
    "    - Data Cube Aggregation: Aggregation operation is applied to data for the construction of the data cube.\n",
    "    - Attribute Subset Selection: The highly relevant attributes should be used, rest all can be discarded. For performing attribute selection, one can use level of significance and p-value of the attribute. The attribute having p-value greater than significance level can be discarded.\n",
    "    - Numerosity Reduction: This enable to store the model of data instead of whole data, for example: Regression Models.\n",
    "    - Dimensionality Reduction: This reduce the size of data by encoding mechanisms.It can be lossy or lossless. If after reconstruction from compressed data, original data can be retrieved, such reduction are called lossless reduction else it is called lossy reduction. The two effective methods of dimensionality reduction are:Wavelet transforms and PCA (Principal Component Analysis).\n",
    "    \n",
    "Feature selection is simply selecting and excluding given features without changing them. Dimensionality reduction transforms features into a lower dimension."
   ]
  },
  {
   "cell_type": "markdown",
   "id": "d7a72ce1",
   "metadata": {},
   "source": [
    "**9. i. What is the IQR? What criteria are used to assess it?**\n",
    "\n",
    "**ii. Describe the various components of a box plot in detail? When will the lower whisker    surpass the upper whisker in length? How can box plots be used to identify outliers?**"
   ]
  },
  {
   "cell_type": "markdown",
   "id": "9c79c316",
   "metadata": {},
   "source": [
    "**Ans:** \n",
    "\n",
    "i.\n",
    "- Q1 is the first quartile of the data, i.e., to say 25% of the data lies between minimum and Q1.\n",
    "- Q3 is the third quartile of the data, i.e., to say 75% of the data lies between minimum and Q3.\n",
    "- The difference between Q3 and Q1 is called the Inter-Quartile Range or IQR.\n",
    "\n",
    "ii. \n",
    "- Minimum is the minimum value in the dataset\n",
    "- Maximum is the maximum value in the dataset.\n",
    "- So the difference between the two tells us about the range of dataset.\n",
    "- The median is the median (or centre point), also called second quartile, of the data (resulting from the fact that the data is ordered).\n",
    "- Q1 is the first quartile of the data, i.e., to say 25% of the data lies between minimum and Q1.\n",
    "- Q3 is the third quartile of the data, i.e., to say 75%\n",
    "- When the data is left skewed, lower whisker will be longer than upper whisker.\n",
    "- To detect the outliers this method is used, we define a new range, let’s call it decision range, and any data point lying outside this range is considered as outlier and is accordingly dealt with. The range is as given below:\n",
    "- Lower Bound: (Q1 - 1.5 * IQR) Upper Bound: (Q3 + 1.5 * IQR)\n",
    "\n",
    "The difference between Q3 and Q1 is called the Inter-Quartile Range or IQR."
   ]
  },
  {
   "cell_type": "code",
   "execution_count": 2,
   "id": "5c99c7d4",
   "metadata": {},
   "outputs": [
    {
     "data": {
      "image/jpeg": "[encoded data removed]",
      "text/plain": [
       "<IPython.core.display.Image object>"
      ]
     },
     "execution_count": 2,
     "metadata": {},
     "output_type": "execute_result"
    }
   ],
   "source": [
    "from IPython import display\n",
    "display.Image(\"IQR.jpg\")"
   ]
  },
  {
   "cell_type": "markdown",
   "id": "4b93039b",
   "metadata": {},
   "source": [
    "**10. Make brief notes on any two of the following:**\n",
    "\n",
    "              1. Data collected at regular intervals\n",
    "\n",
    "               2. The gap between the quartiles\n",
    "\n",
    "               3. Use a cross-tab\n"
   ]
  },
  {
   "cell_type": "markdown",
   "id": "eff73f82",
   "metadata": {},
   "source": [
    "**Ans:** \n",
    "\n",
    "1. **Data collected at regular intervals** :\n",
    "\n",
    "It is defined as a data which is colected after a particular period, in which we do prediction using that real time data.Here each time we gwt the data we need to validate it and do prediction.\n",
    "\n",
    "2. **The gap between the quartiles** : \n",
    "\n",
    "It is defined as the difference between the 75th and 25th percentiles of the data. To calculate the IQR, the data set is divided into quartiles, or four rank-ordered even parts via linear interpolation.\n",
    "\n",
    "3. **Use a cross-tab** : \n",
    "\n",
    "Cross tabulation (crosstab) is a useful analysis tool commonly used to compare the results for one or more variables with the results of another variable. It is used with data on a nominal scale, where variables are named or labeled with no specific order.\n",
    "\n",
    "Crosstabs are basically data tables that present the results from a full group of survey respondents as well as subgroups. They allow you to examine relationships within the data that might not be obvious when simply looking at total survey responses.\n",
    "\n",
    "With cross tabulation, you can examine your data in a variety of ways to achieve a deeper understanding of groups within your respondents."
   ]
  },
  {
   "cell_type": "markdown",
   "id": "edde9e63",
   "metadata": {},
   "source": [
    "**11. Make a comparision between:**\n",
    "\n",
    "    1. Data with nominal and ordinal values\n",
    "    \n",
    "    2. Histogram and box plot\n",
    "    \n",
    "    3. The average and median"
   ]
  },
  {
   "cell_type": "markdown",
   "id": "d1dec611",
   "metadata": {},
   "source": [
    "**Data with Nominal and Ordinal values**\n",
    "\n",
    "Data with nominal and ordinal values are two distinct types of categorical data that are used to categorize or classify items into different groups or categories. Here's a comparison between these two types of data:\n",
    "\n",
    "**1. Measurement Scale:**\n",
    "   - **Nominal Data:** Nominal data is at the lowest level of measurement and is considered categorical. Categories are assigned labels or names without any implied order or numerical significance.\n",
    "   - **Ordinal Data:** Ordinal data is also categorical but has a higher level of measurement than nominal data. It includes an ordered sequence of categories, allowing for ranking but not precise measurement of the magnitude of differences between categories.\n",
    "\n",
    "**2. Examples:**\n",
    "   - **Nominal Data Examples:** Eye colors (e.g., blue, green, brown), vehicle types (e.g., car, bicycle, bus), types of fruits (e.g., apple, banana, orange).\n",
    "   - **Ordinal Data Examples:** Education levels (e.g., high school diploma, bachelor's degree, master's degree), movie ratings (e.g., one star, two stars, three stars), income levels (e.g., low income, middle income, high income).\n",
    "\n",
    "**3. Visualization:**\n",
    "   - **Nominal Data:** Nominal data is often visualized using bar charts or pie charts to show the distribution of categories.\n",
    "   - **Ordinal Data:** Ordinal data can also be visualized using bar charts or similar graphical representations that maintain the order of categories."
   ]
  },
  {
   "cell_type": "markdown",
   "id": "3f0d9b1f",
   "metadata": {},
   "source": [
    "**Histogram and Box plot:**\n",
    "\n",
    "- Histograms and box plots are very similar in that they both help to visualize and describe numeric data. Although histograms are better in determining the underlying distribution of the data, box plots allow you to compare multiple data sets better than histograms as they are less detailed and take up less space.\n",
    "\n",
    "**The Average and Median:**\n",
    "\n",
    "- The mean (informally, the “average“) is found by adding all of the numbers together and dividing by the number of items in the set: 10 + 10 + 20 + 40 + 70 / 5 = 30. The median is found by ordering the set from lowest to highest and finding the exact middle. The median is just the middle number: 20"
   ]
  },
  {
   "cell_type": "code",
   "execution_count": null,
   "id": "6ed220c0",
   "metadata": {},
   "outputs": [],
   "source": []
  }
 ],
 "metadata": {
  "kernelspec": {
   "display_name": "Python 3 (ipykernel)",
   "language": "python",
   "name": "python3"
  },
  "language_info": {
   "codemirror_mode": {
    "name": "ipython",
    "version": 3
   },
   "file_extension": ".py",
   "mimetype": "text/x-python",
   "name": "python",
   "nbconvert_exporter": "python",
   "pygments_lexer": "ipython3",
   "version": "3.9.12"
  }
 },
 "nbformat": 4,
 "nbformat_minor": 5
}
